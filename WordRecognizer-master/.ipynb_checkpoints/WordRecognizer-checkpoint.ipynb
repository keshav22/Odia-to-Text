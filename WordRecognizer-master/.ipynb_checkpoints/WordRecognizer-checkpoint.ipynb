{
 "cells": [
  {
   "cell_type": "code",
   "execution_count": 1,
   "metadata": {},
   "outputs": [
    {
     "name": "stderr",
     "output_type": "stream",
     "text": [
      "Using TensorFlow backend.\n"
     ]
    }
   ],
   "source": [
    "import librosa\n",
    "import os\n",
    "import keras\n",
    "from keras.models import Sequential\n",
    "from keras.layers import Dense, Dropout, Flatten, Conv2D, MaxPooling2D\n",
    "from keras.utils import to_categorical\n",
    "import numpy as np\n",
    "from sklearn.model_selection import train_test_split\n",
    "from tqdm import tqdm"
   ]
  },
  {
   "cell_type": "code",
   "execution_count": 2,
   "metadata": {},
   "outputs": [],
   "source": [
    "DATA_PATH = \"./data/\"\n",
    "\n",
    "def get_labels(path=DATA_PATH):\n",
    "    labels = os.listdir(path)\n",
    "    label_indices = np.arange(0, len(labels))\n",
    "    return labels, label_indices, to_categorical(label_indices)\n",
    "\n",
    "def wav2mfcc(file_path, max_len=11):\n",
    "    wave, sr = librosa.load(file_path, mono=True, sr=None)\n",
    "    wave = wave[::3]\n",
    "    mfcc = librosa.feature.mfcc(wave, sr=16000)\n",
    "    if (max_len > mfcc.shape[1]):\n",
    "        pad_width = max_len - mfcc.shape[1]\n",
    "        mfcc = np.pad(mfcc, pad_width=((0, 0), (0, pad_width)), mode='constant')\n",
    "    else:\n",
    "        mfcc = mfcc[:, :max_len]\n",
    "    \n",
    "    return mfcc\n",
    "\n",
    "\n",
    "def save_data_to_array(path=DATA_PATH, max_len=11):\n",
    "    labels, _, _ = get_labels(path)\n",
    "\n",
    "    for label in labels:\n",
    "        mfcc_vectors = []\n",
    "        wavfiles = [path + label + '/' + wavfile for wavfile in os.listdir(path + '/' + label)]\n",
    "        for wavfile in tqdm(wavfiles, \"Saving vectors of label - '{}'\".format(label)):\n",
    "            mfcc = wav2mfcc(wavfile, max_len=max_len)\n",
    "            mfcc_vectors.append(mfcc)\n",
    "        np.save(label + '.npy', mfcc_vectors)\n",
    "\n",
    "\n",
    "def get_train_test(split_ratio=0.6, random_state=42):\n",
    "    labels, indices, _ = get_labels(DATA_PATH)\n",
    "    X = np.load(labels[0] + '.npy')\n",
    "    y = np.zeros(X.shape[0])\n",
    "    for i, label in enumerate(labels[1:]):\n",
    "        x = np.load(label + '.npy')\n",
    "        X = np.vstack((X, x))\n",
    "        y = np.append(y, np.full(x.shape[0], fill_value= (i + 1)))\n",
    "    assert X.shape[0] == len(y)\n",
    "    return train_test_split(X, y, test_size= (1 - split_ratio), random_state=random_state, shuffle=True)\n",
    "\n",
    "\n",
    "\n",
    "def prepare_dataset(path=DATA_PATH):\n",
    "    labels, _, _ = get_labels(path)\n",
    "    data = {}\n",
    "    for label in labels:\n",
    "        data[label] = {}\n",
    "        data[label]['path'] = [path  + label + '/' + wavfile for wavfile in os.listdir(path + '/' + label)]\n",
    "        vectors = []\n",
    "        for wavfile in data[label]['path']:\n",
    "            wave, sr = librosa.load(wavfile, mono=True, sr=None)\n",
    "            wave = wave[::3]\n",
    "            mfcc = librosa.feature.mfcc(wave, sr=16000)\n",
    "            vectors.append(mfcc)\n",
    "        data[label]['mfcc'] = vectors\n",
    "    return data\n",
    "\n",
    "\n",
    "def load_dataset(path=DATA_PATH):\n",
    "    data = prepare_dataset(path)\n",
    "    dataset = []\n",
    "    for key in data:\n",
    "        for mfcc in data[key]['mfcc']:\n",
    "            dataset.append((key, mfcc))\n",
    "    return dataset[:100]"
   ]
  },
  {
   "cell_type": "code",
   "execution_count": 3,
   "metadata": {},
   "outputs": [
    {
     "name": "stderr",
     "output_type": "stream",
     "text": [
      "Saving vectors of label - 'jungala': 100%|██████████| 2/2 [00:00<00:00, 51.03it/s]\n",
      "Saving vectors of label - 'gacha': 100%|██████████| 4/4 [00:00<00:00, 99.60it/s]\n",
      "Saving vectors of label - 'pasu': 100%|██████████| 3/3 [00:00<00:00, 126.08it/s]\n"
     ]
    }
   ],
   "source": [
    "feature_dim_2 = 11\n",
    "save_data_to_array(max_len=feature_dim_2)\n",
    "X_train, X_test, y_train, y_test = get_train_test()\n",
    "\n",
    "feature_dim_1 = 20\n",
    "channel = 1\n",
    "epochs = 50\n",
    "batch_size = 100\n",
    "verbose = 1\n",
    "num_classes = 3  # Change number of classes\n",
    "\n",
    "X_train = X_train.reshape(X_train.shape[0], feature_dim_1, feature_dim_2, channel)\n",
    "X_test = X_test.reshape(X_test.shape[0], feature_dim_1, feature_dim_2, channel)\n",
    "\n",
    "y_train_hot = to_categorical(y_train)\n",
    "y_test_hot = to_categorical(y_test)"
   ]
  },
  {
   "cell_type": "code",
   "execution_count": 4,
   "metadata": {},
   "outputs": [],
   "source": [
    "def get_model():\n",
    "    model = Sequential()\n",
    "    model.add(Conv2D(32, kernel_size=(2, 2), activation='relu', input_shape=(feature_dim_1, feature_dim_2, channel)))\n",
    "    model.add(Conv2D(48, kernel_size=(2, 2), activation='relu'))\n",
    "    model.add(Conv2D(120, kernel_size=(2, 2), activation='relu'))\n",
    "    model.add(MaxPooling2D(pool_size=(2, 2)))\n",
    "    model.add(Dropout(0.25))\n",
    "    model.add(Flatten())\n",
    "    model.add(Dense(128, activation='relu'))\n",
    "    model.add(Dropout(0.25))\n",
    "    model.add(Dense(64, activation='relu'))\n",
    "    model.add(Dropout(0.4))\n",
    "    model.add(Dense(num_classes, activation='softmax'))\n",
    "    model.compile(loss=keras.losses.categorical_crossentropy,\n",
    "                  optimizer=keras.optimizers.Adadelta(),\n",
    "                  metrics=['accuracy'])\n",
    "    return model\n",
    "\n",
    "def predict(filepath, model):\n",
    "    sample = wav2mfcc(filepath)\n",
    "    sample_reshaped = sample.reshape(1, feature_dim_1, feature_dim_2, channel)\n",
    "    return get_labels()[0][\n",
    "            np.argmax(model.predict(sample_reshaped))\n",
    "    ]"
   ]
  },
  {
   "cell_type": "code",
   "execution_count": 5,
   "metadata": {},
   "outputs": [
    {
     "name": "stdout",
     "output_type": "stream",
     "text": [
      "Train on 5 samples, validate on 4 samples\n",
      "Epoch 1/50\n",
      "5/5 [==============================] - 2s 451ms/step - loss: 3.6528 - acc: 0.4000 - val_loss: 4.7855 - val_acc: 0.2500\n",
      "Epoch 2/50\n",
      "5/5 [==============================] - 0s 5ms/step - loss: 1.5384 - acc: 0.6000 - val_loss: 11.3151 - val_acc: 0.2500\n",
      "Epoch 3/50\n",
      "5/5 [==============================] - 0s 6ms/step - loss: 2.6916 - acc: 0.6000 - val_loss: 4.2952 - val_acc: 0.2500\n",
      "Epoch 4/50\n",
      "5/5 [==============================] - 0s 5ms/step - loss: 8.5019 - acc: 0.4000 - val_loss: 6.3329 - val_acc: 0.2500\n",
      "Epoch 5/50\n",
      "5/5 [==============================] - 0s 5ms/step - loss: 1.0142 - acc: 0.8000 - val_loss: 8.5484 - val_acc: 0.2500\n",
      "Epoch 6/50\n",
      "5/5 [==============================] - 0s 5ms/step - loss: 2.8219 - acc: 0.2000 - val_loss: 7.2530 - val_acc: 0.2500\n",
      "Epoch 7/50\n",
      "5/5 [==============================] - 0s 5ms/step - loss: 2.3408 - acc: 0.6000 - val_loss: 5.0313 - val_acc: 0.2500\n",
      "Epoch 8/50\n",
      "5/5 [==============================] - 0s 6ms/step - loss: 4.4212 - acc: 0.4000 - val_loss: 3.8859 - val_acc: 0.5000\n",
      "Epoch 9/50\n",
      "5/5 [==============================] - 0s 4ms/step - loss: 1.2973 - acc: 0.4000 - val_loss: 4.0115 - val_acc: 0.5000\n",
      "Epoch 10/50\n",
      "5/5 [==============================] - 0s 4ms/step - loss: 0.8367 - acc: 0.6000 - val_loss: 4.2796 - val_acc: 0.5000\n",
      "Epoch 11/50\n",
      "5/5 [==============================] - 0s 5ms/step - loss: 0.2600 - acc: 0.8000 - val_loss: 5.1051 - val_acc: 0.5000\n",
      "Epoch 12/50\n",
      "5/5 [==============================] - 0s 5ms/step - loss: 1.9583 - acc: 0.6000 - val_loss: 3.2800 - val_acc: 0.5000\n",
      "Epoch 13/50\n",
      "5/5 [==============================] - 0s 7ms/step - loss: 0.0614 - acc: 1.0000 - val_loss: 3.5617 - val_acc: 0.5000\n",
      "Epoch 14/50\n",
      "5/5 [==============================] - 0s 7ms/step - loss: 0.0132 - acc: 1.0000 - val_loss: 3.6821 - val_acc: 0.5000\n",
      "Epoch 15/50\n",
      "5/5 [==============================] - 0s 7ms/step - loss: 0.6569 - acc: 0.8000 - val_loss: 6.7621 - val_acc: 0.5000\n",
      "Epoch 16/50\n",
      "5/5 [==============================] - 0s 5ms/step - loss: 0.0076 - acc: 1.0000 - val_loss: 6.7342 - val_acc: 0.5000\n",
      "Epoch 17/50\n",
      "5/5 [==============================] - 0s 8ms/step - loss: 0.0092 - acc: 1.0000 - val_loss: 6.8851 - val_acc: 0.5000\n",
      "Epoch 18/50\n",
      "5/5 [==============================] - 0s 6ms/step - loss: 0.0019 - acc: 1.0000 - val_loss: 6.9260 - val_acc: 0.5000\n",
      "Epoch 19/50\n",
      "5/5 [==============================] - 0s 7ms/step - loss: 0.0018 - acc: 1.0000 - val_loss: 6.9466 - val_acc: 0.5000\n",
      "Epoch 20/50\n",
      "5/5 [==============================] - 0s 6ms/step - loss: 0.0261 - acc: 1.0000 - val_loss: 6.8138 - val_acc: 0.5000\n",
      "Epoch 21/50\n",
      "5/5 [==============================] - 0s 5ms/step - loss: 0.0158 - acc: 1.0000 - val_loss: 6.6771 - val_acc: 0.5000\n",
      "Epoch 22/50\n",
      "5/5 [==============================] - 0s 6ms/step - loss: 0.0469 - acc: 1.0000 - val_loss: 6.6522 - val_acc: 0.5000\n",
      "Epoch 23/50\n",
      "5/5 [==============================] - 0s 10ms/step - loss: 0.0726 - acc: 1.0000 - val_loss: 7.7979 - val_acc: 0.2500\n",
      "Epoch 24/50\n",
      "5/5 [==============================] - 0s 6ms/step - loss: 0.2775 - acc: 0.8000 - val_loss: 6.5689 - val_acc: 0.5000\n",
      "Epoch 25/50\n",
      "5/5 [==============================] - 0s 5ms/step - loss: 0.6693 - acc: 0.8000 - val_loss: 6.1860 - val_acc: 0.5000\n",
      "Epoch 26/50\n",
      "5/5 [==============================] - 0s 11ms/step - loss: 0.7150 - acc: 0.8000 - val_loss: 6.4391 - val_acc: 0.2500\n",
      "Epoch 27/50\n",
      "5/5 [==============================] - 0s 6ms/step - loss: 0.9120 - acc: 0.4000 - val_loss: 4.5740 - val_acc: 0.5000\n",
      "Epoch 28/50\n",
      "5/5 [==============================] - 0s 7ms/step - loss: 0.8558 - acc: 0.8000 - val_loss: 4.2617 - val_acc: 0.5000\n",
      "Epoch 29/50\n",
      "5/5 [==============================] - 0s 6ms/step - loss: 0.0587 - acc: 1.0000 - val_loss: 3.9876 - val_acc: 0.5000\n",
      "Epoch 30/50\n",
      "5/5 [==============================] - 0s 8ms/step - loss: 0.0194 - acc: 1.0000 - val_loss: 3.8342 - val_acc: 0.5000\n",
      "Epoch 31/50\n",
      "5/5 [==============================] - 0s 7ms/step - loss: 0.1473 - acc: 1.0000 - val_loss: 4.8538 - val_acc: 0.5000\n",
      "Epoch 32/50\n",
      "5/5 [==============================] - 0s 10ms/step - loss: 5.2206e-04 - acc: 1.0000 - val_loss: 4.8519 - val_acc: 0.5000\n",
      "Epoch 33/50\n",
      "5/5 [==============================] - 0s 12ms/step - loss: 2.7172e-04 - acc: 1.0000 - val_loss: 4.8536 - val_acc: 0.5000\n",
      "Epoch 34/50\n",
      "5/5 [==============================] - 0s 7ms/step - loss: 0.4434 - acc: 0.8000 - val_loss: 6.6006 - val_acc: 0.2500\n",
      "Epoch 35/50\n",
      "5/5 [==============================] - 0s 12ms/step - loss: 1.3105 - acc: 0.8000 - val_loss: 3.5820 - val_acc: 0.5000\n",
      "Epoch 36/50\n",
      "5/5 [==============================] - 0s 9ms/step - loss: 0.4253 - acc: 0.8000 - val_loss: 3.6676 - val_acc: 0.5000\n",
      "Epoch 37/50\n",
      "5/5 [==============================] - 0s 7ms/step - loss: 0.0494 - acc: 1.0000 - val_loss: 3.8920 - val_acc: 0.5000\n",
      "Epoch 38/50\n",
      "5/5 [==============================] - 0s 6ms/step - loss: 0.0040 - acc: 1.0000 - val_loss: 3.8932 - val_acc: 0.5000\n",
      "Epoch 39/50\n",
      "5/5 [==============================] - 0s 10ms/step - loss: 0.0103 - acc: 1.0000 - val_loss: 3.9542 - val_acc: 0.5000\n",
      "Epoch 40/50\n",
      "5/5 [==============================] - 0s 9ms/step - loss: 0.1649 - acc: 0.8000 - val_loss: 4.2144 - val_acc: 0.5000\n",
      "Epoch 41/50\n",
      "5/5 [==============================] - 0s 9ms/step - loss: 0.0412 - acc: 1.0000 - val_loss: 4.1534 - val_acc: 0.5000\n",
      "Epoch 42/50\n",
      "5/5 [==============================] - 0s 9ms/step - loss: 0.0582 - acc: 1.0000 - val_loss: 4.3602 - val_acc: 0.5000\n",
      "Epoch 43/50\n",
      "5/5 [==============================] - 0s 8ms/step - loss: 0.0022 - acc: 1.0000 - val_loss: 4.3810 - val_acc: 0.5000\n",
      "Epoch 44/50\n",
      "5/5 [==============================] - 0s 9ms/step - loss: 0.0209 - acc: 1.0000 - val_loss: 4.5067 - val_acc: 0.5000\n",
      "Epoch 45/50\n",
      "5/5 [==============================] - 0s 7ms/step - loss: 1.6409e-04 - acc: 1.0000 - val_loss: 4.5069 - val_acc: 0.5000\n",
      "Epoch 46/50\n",
      "5/5 [==============================] - 0s 6ms/step - loss: 0.0451 - acc: 1.0000 - val_loss: 4.7142 - val_acc: 0.5000\n",
      "Epoch 47/50\n",
      "5/5 [==============================] - 0s 9ms/step - loss: 0.0031 - acc: 1.0000 - val_loss: 4.7176 - val_acc: 0.5000\n",
      "Epoch 48/50\n",
      "5/5 [==============================] - 0s 9ms/step - loss: 3.6952e-04 - acc: 1.0000 - val_loss: 4.7197 - val_acc: 0.5000\n",
      "Epoch 49/50\n",
      "5/5 [==============================] - 0s 9ms/step - loss: 0.0595 - acc: 1.0000 - val_loss: 4.2929 - val_acc: 0.5000\n",
      "Epoch 50/50\n",
      "5/5 [==============================] - 0s 11ms/step - loss: 0.0062 - acc: 1.0000 - val_loss: 4.4090 - val_acc: 0.5000\n"
     ]
    },
    {
     "data": {
      "text/plain": [
       "<keras.callbacks.History at 0x7fba60521668>"
      ]
     },
     "execution_count": 5,
     "metadata": {},
     "output_type": "execute_result"
    }
   ],
   "source": [
    "model = get_model()\n",
    "model.fit(X_train, y_train_hot, batch_size=batch_size, epochs=epochs, verbose=verbose, validation_data=(X_test, y_test_hot))"
   ]
  },
  {
   "cell_type": "code",
   "execution_count": 6,
   "metadata": {},
   "outputs": [
    {
     "name": "stdout",
     "output_type": "stream",
     "text": [
      "gacha\n"
     ]
    }
   ],
   "source": [
    "print(predict('./test/test.wav', model=model))"
   ]
  },
  {
   "cell_type": "code",
   "execution_count": null,
   "metadata": {},
   "outputs": [],
   "source": []
  }
 ],
 "metadata": {
  "kernelspec": {
   "display_name": "Python 3",
   "language": "python",
   "name": "python3"
  },
  "language_info": {
   "codemirror_mode": {
    "name": "ipython",
    "version": 3
   },
   "file_extension": ".py",
   "mimetype": "text/x-python",
   "name": "python",
   "nbconvert_exporter": "python",
   "pygments_lexer": "ipython3",
   "version": "3.6.6"
  }
 },
 "nbformat": 4,
 "nbformat_minor": 2
}
